{
  "nbformat": 4,
  "nbformat_minor": 0,
  "metadata": {
    "colab": {
      "provenance": []
    },
    "kernelspec": {
      "name": "python3",
      "display_name": "Python 3"
    },
    "language_info": {
      "name": "python"
    }
  },
  "cells": [
    {
      "cell_type": "code",
      "execution_count": 1,
      "metadata": {
        "colab": {
          "base_uri": "https://localhost:8080/"
        },
        "id": "_aK9qSsq1n_j",
        "outputId": "08e193e7-9166-4f72-9a66-62a3897f6e6a"
      },
      "outputs": [
        {
          "output_type": "stream",
          "name": "stdout",
          "text": [
            "+----+------------+\n",
            "| x  |   Valor    |\n",
            "+----+------------+\n",
            "| x1 |     2.1926 |\n",
            "| x2 |     0.8732 |\n",
            "| x3 |     0.6155 |\n",
            "| x4 |    -0.4814 |\n",
            "| x5 |     0.6315 |\n",
            "+----+------------+\n"
          ]
        }
      ],
      "source": [
        "#            Autor:\n",
        "# Cristian Yuseff Pinto Villanueva\n",
        "# cristian.pino9844@gmail.com\n",
        "# Versión 1.0 : 17/02/2025\n",
        "import numpy as np\n",
        "\n",
        "def gauss_elimination(A, b):\n",
        "    n = len(b)\n",
        "    for i in range(n):\n",
        "        # Pivoteo parcial\n",
        "        max_row = i + np.argmax(np.abs(A[i:, i]))\n",
        "        if max_row != i:\n",
        "            A[[i, max_row]] = A[[max_row, i]]\n",
        "            b[[i, max_row]] = b[[max_row, i]]\n",
        "\n",
        "        # Eliminación hacia adelante\n",
        "        for j in range(i+1, n):\n",
        "            factor = A[j][i] / A[i][i]\n",
        "            A[j, i:] -= factor * A[i, i:]\n",
        "            b[j] -= factor * b[i]\n",
        "\n",
        "    # Sustitución regresiva\n",
        "    x = np.zeros(n)\n",
        "    for i in range(n-1, -1, -1):\n",
        "        x[i] = (b[i] - np.dot(A[i, i+1:], x[i+1:])) / A[i, i]\n",
        "    return x\n",
        "\n",
        "# Nueva definición del sistema de ecuaciones\n",
        "A = np.array([\n",
        "    [6, -2, 3, -1, 2],\n",
        "    [-3, 5, -2, 4, -1],\n",
        "    [4, 3, 7, -5, 3],\n",
        "    [-2, 6, -3, 1, -4],\n",
        "    [1, -3, 2, -5, 6]\n",
        "], dtype=float)\n",
        "\n",
        "b = np.array([15, -6, 20, -4, 7], dtype=float)\n",
        "\n",
        "# linea para resolver el sistema\n",
        "sol = gauss_elimination(A, b)\n",
        "\n",
        "# Mostrará la solución en forma de tabla\n",
        "print(\"+----+------------+\")\n",
        "print(\"| x  |   Valor    |\")\n",
        "print(\"+----+------------+\")\n",
        "for i, valor in enumerate(sol):\n",
        "    print(f\"| x{i+1} | {valor:10.4f} |\")\n",
        "print(\"+----+------------+\")"
      ]
    }
  ]
}