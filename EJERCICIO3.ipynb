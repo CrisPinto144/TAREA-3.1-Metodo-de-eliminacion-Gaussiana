{
  "nbformat": 4,
  "nbformat_minor": 0,
  "metadata": {
    "colab": {
      "provenance": []
    },
    "kernelspec": {
      "name": "python3",
      "display_name": "Python 3"
    },
    "language_info": {
      "name": "python"
    }
  },
  "cells": [
    {
      "cell_type": "code",
      "execution_count": null,
      "metadata": {
        "id": "jSCAMGkG5bwA"
      },
      "outputs": [],
      "source": [
        "#            Autor:\n",
        "# Criostian Yuseff Pinto Villanueva\n",
        "# cristian.pino984@gmail.com\n",
        "# Versión 1.0 : 17/02/2025\n",
        "import numpy as np\n",
        "\n",
        "def gauss_elimination(A, b):\n",
        "    n = len(b)\n",
        "    for i in range(n):\n",
        "        # Pivoteo parcial\n",
        "        max_row = i + np.argmax(np.abs(A[i:, i]))\n",
        "        if max_row != i:\n",
        "            A[[i, max_row]] = A[[max_row, i]]\n",
        "            b[[i, max_row]] = b[[max_row, i]]\n",
        "\n",
        "        # Eliminación hacia adelante\n",
        "        for j in range(i+1, n):\n",
        "            factor = A[j][i] / A[i][i]\n",
        "            A[j, i:] -= factor * A[i, i:]\n",
        "            b[j] -= factor * b[i]\n",
        "\n",
        "    # Sustitución regresiva\n",
        "    x = np.zeros(n)\n",
        "    for i in range(n-1, -1, -1):\n",
        "        x[i] = (b[i] - np.dot(A[i, i+1:], x[i+1:])) / A[i, i]\n",
        "    return x\n",
        "\n",
        "# Nueva definición del sistema de ecuaciones\n",
        "A = np.array([\n",
        "    [1, 2, -3, 4, -1, 1],\n",
        "    [-2, 3, 5, -1, 2, -1],\n",
        "    [4, -1, 2, 6, -3, 1],\n",
        "    [-3, 5, -1, 2, 4, -1],\n",
        "    [2, -4, 6, -5, 1, 3],\n",
        "    [-5, 1, 4, -1, 2, -6]\n",
        "], dtype=float)\n",
        "\n",
        "b = np.array([7, -2, 10, 3, -8, 5], dtype=float)\n",
        "\n",
        "# linea para resolver el sistema\n",
        "sol = gauss_elimination(A, b)\n",
        "\n",
        "# Mostrará la solución en forma de tabla\n",
        "print(\"+----+------------+\")\n",
        "print(\"| x  |   Valor    |\")\n",
        "print(\"+----+------------+\")\n",
        "for i, valor in enumerate(sol):\n",
        "    print(f\"| x{i+1} | {valor:10.4f} |\")\n",
        "print(\"+----+------------+\")"
      ]
    }
  ]
}