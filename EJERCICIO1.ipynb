{
  "nbformat": 4,
  "nbformat_minor": 0,
  "metadata": {
    "colab": {
      "provenance": []
    },
    "kernelspec": {
      "name": "python3",
      "display_name": "Python 3"
    },
    "language_info": {
      "name": "python"
    }
  },
  "cells": [
    {
      "cell_type": "code",
      "execution_count": 1,
      "metadata": {
        "colab": {
          "base_uri": "https://localhost:8080/"
        },
        "id": "PTizY8YDxXCt",
        "outputId": "a3d77437-c680-4aa7-ba8c-244e71b72f92"
      },
      "outputs": [
        {
          "output_type": "stream",
          "name": "stdout",
          "text": [
            "+----+------------+\n",
            "| x  |   Valor    |\n",
            "+----+------------+\n",
            "| x1 |     0.2234 |\n",
            "| x2 |    -7.4681 |\n",
            "| x3 |    -7.1170 |\n",
            "| x4 |     4.2872 |\n",
            "+----+------------+\n"
          ]
        }
      ],
      "source": [
        "#   Codigo que implementa el esquema numerico\n",
        "#   del metodo de eliminacion Gaussiana para\n",
        "#   resolver sistemas de ecuaciones\n",
        "#\n",
        "#           Autor:\n",
        "#   Cristian Yuseff Pinto Villanueva\n",
        "#   cristian.pino984@gmail.com\n",
        "#   Version 1.0 : 18/02/2025\n",
        "#\n",
        "\n",
        "import numpy as np\n",
        "\n",
        "def gauss_elimination(A, b):\n",
        "    n = len(b)\n",
        "    for i in range(n):\n",
        "        # Pivoteo parcial\n",
        "        max_row = i + np.argmax(np.abs(A[i:, i]))\n",
        "        if max_row != i:\n",
        "            A[[i, max_row]] = A[[max_row, i]]\n",
        "            b[[i, max_row]] = b[[max_row, i]]\n",
        "\n",
        "        # Eliminación hacia adelante\n",
        "        for j in range(i+1, n):\n",
        "            factor = A[j][i] / A[i][i]\n",
        "            A[j, i:] -= factor * A[i, i:]\n",
        "            b[j] -= factor * b[i]\n",
        "\n",
        "    # Sustitución regresiva\n",
        "    x = np.zeros(n)\n",
        "    for i in range(n-1, -1, -1):\n",
        "        x[i] = (b[i] - np.dot(A[i, i+1:], x[i+1:])) / A[i, i]\n",
        "    return x\n",
        "\n",
        "# Definición del nuevo sistema de ecuaciones\n",
        "A = np.array([\n",
        "    [3, 2, -1, 4],\n",
        "    [5, -3, 2, -1],\n",
        "    [-1, 4, -2, 3],\n",
        "    [2, -1, 3, 5]\n",
        "], dtype=float)\n",
        "\n",
        "b = np.array([10, 5, -3, 8], dtype=float)\n",
        "\n",
        "# linea para resolver el sistema\n",
        "sol = gauss_elimination(A, b)\n",
        "\n",
        "# Mostrara la solución en forma de tabla\n",
        "print(\"+----+------------+\")\n",
        "print(\"| x  |   Valor    |\")\n",
        "print(\"+----+------------+\")\n",
        "for i, valor in enumerate(sol):\n",
        "    print(f\"| x{i+1} | {valor:10.4f} |\")\n",
        "print(\"+----+------------+\")"
      ]
    }
  ]
}